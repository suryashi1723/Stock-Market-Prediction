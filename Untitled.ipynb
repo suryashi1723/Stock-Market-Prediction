{
 "cells": [
  {
   "cell_type": "code",
   "execution_count": 3,
   "id": "acd60373",
   "metadata": {},
   "outputs": [
    {
     "ename": "IndentationError",
     "evalue": "unexpected indent (1338572692.py, line 53)",
     "output_type": "error",
     "traceback": [
      "\u001b[1;36m  File \u001b[1;32m\"C:\\Users\\hp\\AppData\\Local\\Temp\\ipykernel_12464\\1338572692.py\"\u001b[1;36m, line \u001b[1;32m53\u001b[0m\n\u001b[1;33m    Y_test =testData.iloc[60:,0:].values\u001b[0m\n\u001b[1;37m    ^\u001b[0m\n\u001b[1;31mIndentationError\u001b[0m\u001b[1;31m:\u001b[0m unexpected indent\n"
     ]
    }
   ],
   "source": [
    "import pandas as pd \n",
    "import numpy as np \n",
    "import matplotlib.pyplot as plt \n",
    "from sklearn.preprocessing  import Sequential\n",
    "from keras.layers import Dense,LSTM,Dropout\n",
    "data = pd.read_csv('Google_train_data.csv')\n",
    "data.info()\n",
    "data[\"Close\"]=pd.to_numeric(data.Close,errors='coerce')\n",
    "data = data.dropna()\n",
    "trainData = data.iloc[:,4:5].values\n",
    "data.info()\n",
    "sc = MinMaxScaler(feature_range=(0,1))\n",
    "trainData = sc.fit_tranform(trainData)\n",
    "trainData.shape\n",
    "X.train = []\n",
    "Y.train = []\n",
    "for i in range (60,1149): #60 : timestep // 1149 : Length of the Data\n",
    "    X_train.append(trainData[i-60:i,0])\n",
    "    Y_train.append(trainData[i,0])\n",
    "    \n",
    "    X_train,Y_train = np.array(X_train),np.array(Y_train)\n",
    "    X_train = np.reshape(X_train,(X_train.shape[0],X_train.shape[1],1))\n",
    "    X_train.shape\n",
    "    model = Sequential()\n",
    "    model.add(LSTM(units=100, return_sequences = True,input_shape =(X_train.shape[1],1)))\n",
    "    model.add(Dropout(0.2))\n",
    "    model.add(LSTM(units=100, return_sequences = True))\n",
    "    model.add(Dropout(0.2))\n",
    "    model.add(LSTM(units=100, return_sequences = True))\n",
    "    model.add(Dropout(0.2))\n",
    "    model.add(LSTM(units=100, return_sequences = False))\n",
    "    model.add(Dropout(0.2))\n",
    "    \n",
    "    model.add(Dense(units =1))\n",
    "    model.compile(optimizer='adam' ,loss=\"mean_squared_error\")\n",
    "    \n",
    "    hist= model.fit(X_train, Y_train,epochs = 20 , batch_size =32, verbose=2)\n",
    "    \n",
    "    plt.plot(hist.history['loss'])\n",
    "    plt.title('Training model loss')\n",
    "    plt.ylabel('loss')\n",
    "    plt.xlabel('epoch')\n",
    "    plt.legend(['train'], loc ='upper left')\n",
    "    plt.show()\n",
    "    \n",
    "    \n",
    "    \n",
    "    \n",
    "testData = pd.read.csv('Google_test_data.csv')\n",
    "testData[\"Close\"]= pd.to_numeric(testData.Close,errors='coerce')\n",
    "testData = testData.dropna()\n",
    "testData = testData.iloc[:,4:5]\n",
    " Y_test =testData.iloc[60:,0:].values\n",
    "    #input array for the model\n",
    "inputClosing = testData.iloc[:,0:].values\n",
    "inputClosing_scaled = sc.transform(inputClosing)\n",
    "inputClosing.scaled.shape\n",
    "X_test =[]\n",
    "length = len(testData)\n",
    "timestep = 60\n",
    "for i in range (timestep,length):\n",
    "    X_test.append(inputClosing_scaled[i-timestep:i,0])\n",
    "X_test = np.array(X_test)\n",
    "X_test = np.reshape(X_test,(X_test.shape[0],X_test.shape[1],1))\n",
    "X_test.shape\n",
    "\n",
    "y_pred = model.predict(X_test)\n",
    "predicted_price = sc.inverse_transform(y_pred)\n",
    "\n",
    "\n",
    "plt.plot(Y_test, color ='red', label ='Actual Stock Price')\n",
    "plt.plot(predicted_price, color = 'green', label = 'Predicted Stock Price')\n",
    "plt.title('Google stock price prediction')\n",
    "plt.xlabel('Time')\n",
    "plt.ylabel('Stock Price')\n",
    "plt.legend()\n",
    "plt.show()"
   ]
  },
  {
   "cell_type": "code",
   "execution_count": null,
   "id": "2ee599b7",
   "metadata": {},
   "outputs": [],
   "source": []
  }
 ],
 "metadata": {
  "kernelspec": {
   "display_name": "Python 3 (ipykernel)",
   "language": "python",
   "name": "python3"
  },
  "language_info": {
   "codemirror_mode": {
    "name": "ipython",
    "version": 3
   },
   "file_extension": ".py",
   "mimetype": "text/x-python",
   "name": "python",
   "nbconvert_exporter": "python",
   "pygments_lexer": "ipython3",
   "version": "3.7.4"
  }
 },
 "nbformat": 4,
 "nbformat_minor": 5
}
